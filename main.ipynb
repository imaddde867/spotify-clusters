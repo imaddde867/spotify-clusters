{
 "cells": [
  {
   "cell_type": "markdown",
   "id": "2326f5b6-8258-4121-a9b9-c676cf8394ce",
   "metadata": {},
   "source": [
    "# Music Recommendation System with Spotify Data\n",
    "### 1. Load and preprocess data \n"
   ]
  },
  {
   "cell_type": "code",
   "execution_count": 57,
   "id": "94b176a7-5f98-4755-807d-878e8472c07b",
   "metadata": {},
   "outputs": [],
   "source": [
    "import pandas as pd\n",
    "\n",
    "file_path = 'data/spotify_data.csv'\n",
    "df = pd.read_csv(file_path)"
   ]
  },
  {
   "cell_type": "code",
   "execution_count": 58,
   "id": "753999bb",
   "metadata": {},
   "outputs": [
    {
     "name": "stdout",
     "output_type": "stream",
     "text": [
      "   Unnamed: 0    artist_name        track_name                track_id  \\\n",
      "0           0     Jason Mraz   I Won't Give Up  53QF56cjZA9RTuuMZDrSA6   \n",
      "1           1     Jason Mraz  93 Million Miles  1s8tP3jP4GZcyHDsjvw218   \n",
      "2           2  Joshua Hyslop  Do Not Let Me Go  7BRCa8MPiyuvr2VU3O9W0F   \n",
      "3           3   Boyce Avenue          Fast Car  63wsZUhUZLlh1OsyrZq7sz   \n",
      "4           4   Andrew Belle  Sky's Still Blue  6nXIYClvJAfi6ujLiKqEq8   \n",
      "\n",
      "   popularity  year     genre  danceability  energy  key  loudness  mode  \\\n",
      "0          68  2012  acoustic         0.483   0.303    4   -10.058     1   \n",
      "1          50  2012  acoustic         0.572   0.454    3   -10.286     1   \n",
      "2          57  2012  acoustic         0.409   0.234    3   -13.711     1   \n",
      "3          58  2012  acoustic         0.392   0.251   10    -9.845     1   \n",
      "4          54  2012  acoustic         0.430   0.791    6    -5.419     0   \n",
      "\n",
      "   speechiness  acousticness  instrumentalness  liveness  valence    tempo  \\\n",
      "0       0.0429        0.6940          0.000000    0.1150    0.139  133.406   \n",
      "1       0.0258        0.4770          0.000014    0.0974    0.515  140.182   \n",
      "2       0.0323        0.3380          0.000050    0.0895    0.145  139.832   \n",
      "3       0.0363        0.8070          0.000000    0.0797    0.508  204.961   \n",
      "4       0.0302        0.0726          0.019300    0.1100    0.217  171.864   \n",
      "\n",
      "   duration_ms  time_signature  \n",
      "0       240166               3  \n",
      "1       216387               4  \n",
      "2       158960               4  \n",
      "3       304293               4  \n",
      "4       244320               4  \n",
      "<class 'pandas.core.frame.DataFrame'>\n",
      "RangeIndex: 1159764 entries, 0 to 1159763\n",
      "Data columns (total 20 columns):\n",
      " #   Column            Non-Null Count    Dtype  \n",
      "---  ------            --------------    -----  \n",
      " 0   Unnamed: 0        1159764 non-null  int64  \n",
      " 1   artist_name       1159749 non-null  object \n",
      " 2   track_name        1159763 non-null  object \n",
      " 3   track_id          1159764 non-null  object \n",
      " 4   popularity        1159764 non-null  int64  \n",
      " 5   year              1159764 non-null  int64  \n",
      " 6   genre             1159764 non-null  object \n",
      " 7   danceability      1159764 non-null  float64\n",
      " 8   energy            1159764 non-null  float64\n",
      " 9   key               1159764 non-null  int64  \n",
      " 10  loudness          1159764 non-null  float64\n",
      " 11  mode              1159764 non-null  int64  \n",
      " 12  speechiness       1159764 non-null  float64\n",
      " 13  acousticness      1159764 non-null  float64\n",
      " 14  instrumentalness  1159764 non-null  float64\n",
      " 15  liveness          1159764 non-null  float64\n",
      " 16  valence           1159764 non-null  float64\n",
      " 17  tempo             1159764 non-null  float64\n",
      " 18  duration_ms       1159764 non-null  int64  \n",
      " 19  time_signature    1159764 non-null  int64  \n",
      "dtypes: float64(9), int64(7), object(4)\n",
      "memory usage: 177.0+ MB\n"
     ]
    }
   ],
   "source": [
    "print(df.head(5))\n",
    "df.info()"
   ]
  },
  {
   "cell_type": "code",
   "execution_count": 59,
   "id": "f4c7dfa6",
   "metadata": {},
   "outputs": [
    {
     "name": "stdout",
     "output_type": "stream",
     "text": [
      "Unnamed: 0           0\n",
      "artist_name         15\n",
      "track_name           1\n",
      "track_id             0\n",
      "popularity           0\n",
      "year                 0\n",
      "genre                0\n",
      "danceability         0\n",
      "energy               0\n",
      "key                  0\n",
      "loudness             0\n",
      "mode                 0\n",
      "speechiness          0\n",
      "acousticness         0\n",
      "instrumentalness     0\n",
      "liveness             0\n",
      "valence              0\n",
      "tempo                0\n",
      "duration_ms          0\n",
      "time_signature       0\n",
      "dtype: int64\n"
     ]
    }
   ],
   "source": [
    "# View missing values\n",
    "print(df.isnull().sum())\n",
    "\n",
    "# Drop rows with missing values\n",
    "df = df.dropna() "
   ]
  },
  {
   "cell_type": "markdown",
   "id": "25d523df",
   "metadata": {},
   "source": [
    "### Audio Features Overview\n",
    "\n",
    "Below is a table summarizing key audio features of a track, along with a brief explanation of what each feature represents.\n",
    "\n",
    "| **Audio Feature**   | **Description**                                | **What It Tells Us**                                                                 |\n",
    "|---------------------|-----------------------------------------------|-------------------------------------------------------------------------------------|\n",
    "| **Popularity**      | Track popularity (0 to 100)                   | How popular the track is, with higher values indicating greater popularity.         |\n",
    "| **Year**            | Year released (2000 to 2023)                  | The release year of the track, useful for historical context or trends.             |\n",
    "| **Danceability**    | Track suitability for dancing (0.0 to 1.0)    | How suitable the track is for dancing, based on rhythm, tempo, and beat strength.   |\n",
    "| **Energy**          | Perceptual measure of intensity and activity (0.0 to 1.0) | The intensity and activity level of the track; higher values feel more energetic.   |\n",
    "| **Key**             | The key the track is in (-1 to 11)            | The musical key of the track (e.g., C, D#, etc.), where -1 means no key detected.   |\n",
    "| **Loudness**        | Overall loudness in decibels (-60 to 0 dB)    | How loud the track is; closer to 0 dB means louder, more impactful sound.           |\n",
    "| **Mode**            | Modality of the track (Major = 1, Minor = 0)  | Whether the track is in a major (brighter) or minor (darker) key, affecting mood.   |\n",
    "| **Speechiness**     | Presence of spoken words in the track         | How much spoken word is in the track; higher values indicate more speech-like content. |\n",
    "| **Acousticness**    | Confidence measure from 0 to 1 of whether the track is acoustic | Likelihood of the track being acoustic; higher values mean more acoustic elements.  |\n",
    "| **Instrumentalness**| Whether tracks contain vocals (0.0 to 1.0)    | Likelihood of the track being instrumental; higher values mean fewer vocals.         |\n",
    "| **Liveness**        | Presence of audience in the recording (0.0 to 1.0) | Whether the track sounds like a live recording; higher values suggest an audience.  |\n",
    "| **Valence**         | Musical positiveness (0.0 to 1.0)             | The emotional tone of the track; higher values indicate a more positive, happy mood. |\n",
    "| **Tempo**           | Tempo of the track in beats per minute (BPM)  | The speed of the track; higher BPM means a faster tempo, often more energetic.       |\n",
    "| **Time_signature**  | Estimated time signature (3 to 7)             | The rhythmic structure (e.g., 4/4, 3/4); indicates beats per measure.               |\n",
    "| **Duration_ms**     | Duration of track in milliseconds             | The length of the track in milliseconds; useful for understanding track duration.    |\n",
    "\n",
    "I chose to use as features : ***Danceability, Energy, Key, Loudness, Mode, Speechiness, Acousticness, Instrumentalness, Liveness, Valence, and Tempo***\n",
    "- For **tempo**: Apply min-max scaling to bring its values into the [0, 1] interval. If tempo contains notable outliers, consider robust scaling.  \n",
    "- For **categorical** features (key and mode): Use one-hot encoding rather than numeric scaling."
   ]
  },
  {
   "cell_type": "code",
   "execution_count": 60,
   "id": "f1be8190",
   "metadata": {},
   "outputs": [
    {
     "name": "stdout",
     "output_type": "stream",
     "text": [
      "Tempo statistics:\n",
      "count    1.159748e+06\n",
      "mean     1.213775e+02\n",
      "std      2.977964e+01\n",
      "min      0.000000e+00\n",
      "25%      9.879800e+01\n",
      "50%      1.219310e+02\n",
      "75%      1.399030e+02\n",
      "max      2.499930e+02\n",
      "Name: tempo, dtype: float64\n",
      "\n",
      "Processed features:\n",
      "   danceability  energy  loudness  speechiness  acousticness  \\\n",
      "0         0.483   0.303   -10.058       0.0429        0.6940   \n",
      "1         0.572   0.454   -10.286       0.0258        0.4770   \n",
      "2         0.409   0.234   -13.711       0.0323        0.3380   \n",
      "3         0.392   0.251    -9.845       0.0363        0.8070   \n",
      "4         0.430   0.791    -5.419       0.0302        0.0726   \n",
      "\n",
      "   instrumentalness  liveness  valence     tempo  key_0  ...  key_4  key_5  \\\n",
      "0          0.000000    0.1150    0.139  0.533639  False  ...   True  False   \n",
      "1          0.000014    0.0974    0.515  0.560744  False  ...  False  False   \n",
      "2          0.000050    0.0895    0.145  0.559344  False  ...  False  False   \n",
      "3          0.000000    0.0797    0.508  0.819867  False  ...  False  False   \n",
      "4          0.019300    0.1100    0.217  0.687475  False  ...  False  False   \n",
      "\n",
      "   key_6  key_7  key_8  key_9  key_10  key_11  mode_0  mode_1  \n",
      "0  False  False  False  False   False   False   False    True  \n",
      "1  False  False  False  False   False   False   False    True  \n",
      "2  False  False  False  False   False   False   False    True  \n",
      "3  False  False  False  False    True   False   False    True  \n",
      "4   True  False  False  False   False   False    True   False  \n",
      "\n",
      "[5 rows x 23 columns]\n",
      "\n",
      "Shape of processed features: (1159748, 23)\n"
     ]
    }
   ],
   "source": [
    "# Define the chosen features\n",
    "features = ['danceability', 'energy', 'key', 'loudness', 'mode', 'speechiness', \n",
    "           'acousticness', 'instrumentalness', 'liveness', 'valence', 'tempo']\n",
    "\n",
    "df = df[features].copy()\n",
    "\n",
    "# Apply min-max scaling to tempo to bring it into [0, 1] interval\n",
    "from sklearn.preprocessing import MinMaxScaler\n",
    "\n",
    "# Check for tempo outliers\n",
    "print(\"Tempo statistics:\")\n",
    "print(df['tempo'].describe())\n",
    "\n",
    "# Apply min-max scaling to tempo\n",
    "scaler = MinMaxScaler()\n",
    "df['tempo'] = scaler.fit_transform(df[['tempo']])\n",
    "\n",
    "# One-hot encode categorical features (key and mode)\n",
    "# For key (values 0-11 representing musical keys)\n",
    "key_dummies = pd.get_dummies(df['key'], prefix='key')\n",
    "df = pd.concat([df, key_dummies], axis=1)\n",
    "\n",
    "# For mode (0 for minor, 1 for major)\n",
    "mode_dummies = pd.get_dummies(df['mode'], prefix='mode')\n",
    "df = pd.concat([df, mode_dummies], axis=1)\n",
    "\n",
    "# Drop the original categorical columns\n",
    "df.drop(['key', 'mode'], axis=1, inplace=True)\n",
    "\n",
    "# Display the first few rows of the processed features\n",
    "print(\"\\nProcessed features:\")\n",
    "print(df.head())\n",
    "\n",
    "# Display the shape of the processed features dataframe\n",
    "print(f\"\\nShape of processed features: {df.shape}\")\n"
   ]
  },
  {
   "cell_type": "code",
   "execution_count": null,
   "id": "9682aba0",
   "metadata": {},
   "outputs": [],
   "source": []
  },
  {
   "cell_type": "code",
   "execution_count": null,
   "id": "5ec66dce",
   "metadata": {},
   "outputs": [],
   "source": []
  }
 ],
 "metadata": {
  "kernelspec": {
   "display_name": "Python 3",
   "language": "python",
   "name": "python3"
  },
  "language_info": {
   "codemirror_mode": {
    "name": "ipython",
    "version": 3
   },
   "file_extension": ".py",
   "mimetype": "text/x-python",
   "name": "python",
   "nbconvert_exporter": "python",
   "pygments_lexer": "ipython3",
   "version": "3.12.7"
  }
 },
 "nbformat": 4,
 "nbformat_minor": 5
}
